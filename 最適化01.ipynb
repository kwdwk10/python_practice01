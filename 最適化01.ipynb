{
  "nbformat": 4,
  "nbformat_minor": 0,
  "metadata": {
    "colab": {
      "name": "最適化01.ipynb",
      "provenance": [],
      "authorship_tag": "ABX9TyO/vZMnVLtIrMP+6FARsjj6",
      "include_colab_link": true
    },
    "kernelspec": {
      "name": "python3",
      "display_name": "Python 3"
    },
    "language_info": {
      "name": "python"
    }
  },
  "cells": [
    {
      "cell_type": "markdown",
      "metadata": {
        "id": "view-in-github",
        "colab_type": "text"
      },
      "source": [
        "<a href=\"https://colab.research.google.com/github/kwdwk10/python_practice01/blob/master/%E6%9C%80%E9%81%A9%E5%8C%9601.ipynb\" target=\"_parent\"><img src=\"https://colab.research.google.com/assets/colab-badge.svg\" alt=\"Open In Colab\"/></a>"
      ]
    },
    {
      "cell_type": "code",
      "metadata": {
        "colab": {
          "base_uri": "https://localhost:8080/"
        },
        "id": "kdB8qO-0UHRA",
        "outputId": "bd222299-dbe6-40c6-d6b4-d6c081c2fd50"
      },
      "source": [
        "!pip install pulp"
      ],
      "execution_count": null,
      "outputs": [
        {
          "output_type": "stream",
          "name": "stdout",
          "text": [
            "Collecting pulp\n",
            "  Downloading PuLP-2.5.1-py3-none-any.whl (41.2 MB)\n",
            "\u001b[K     |████████████████████████████████| 41.2 MB 73 kB/s \n",
            "\u001b[?25hInstalling collected packages: pulp\n",
            "Successfully installed pulp-2.5.1\n"
          ]
        }
      ]
    },
    {
      "cell_type": "code",
      "metadata": {
        "colab": {
          "base_uri": "https://localhost:8080/"
        },
        "id": "0l1OhMhYS74c",
        "outputId": "71820041-c18b-466d-cc46-1e8cb7712434"
      },
      "source": [
        "import pulp\n",
        "\n",
        "problem = pulp.LpProblem('SLE', pulp.LpMaximize)\n",
        "x = pulp.LpVariable('x', cat = 'Continuous')\n",
        "y = pulp.LpVariable('y', cat = 'Continuous')\n",
        "\n",
        "problem += 120 * x + 150 * y == 1440\n",
        "problem += x + y == 10\n",
        "\n",
        "status = problem.solve()\n",
        "\n",
        "print('Status: ', pulp.LpStatus[status])\n",
        "print('x=', x.value(), 'y= ', y.value())"
      ],
      "execution_count": null,
      "outputs": [
        {
          "output_type": "stream",
          "name": "stdout",
          "text": [
            "Status:  Optimal\n",
            "x= 2.0 y=  8.0\n"
          ]
        }
      ]
    },
    {
      "cell_type": "code",
      "metadata": {
        "id": "31mlAn3OT4fc"
      },
      "source": [
        ""
      ],
      "execution_count": null,
      "outputs": []
    }
  ]
}